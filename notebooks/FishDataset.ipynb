{
 "cells": [
  {
   "cell_type": "code",
   "execution_count": 148,
   "metadata": {},
   "outputs": [],
   "source": [
    "%matplotlib inline\n",
    "import os\n",
    "import re\n",
    "import numpy as np\n",
    "import random\n",
    "import tarfile\n",
    "import urllib\n",
    "import torch\n",
    "import torch.nn as nn\n",
    "from torch.utils.data.dataset import Dataset\n",
    "from torchvision import transforms\n",
    "from PIL import Image\n",
    "from glob import glob\n",
    "import collections"
   ]
  },
  {
   "cell_type": "code",
   "execution_count": 67,
   "metadata": {},
   "outputs": [],
   "source": [
    "class FishDataset(Dataset):\n",
    "    \"\"\"Fishes dataset.\"\"\"\n",
    "    \n",
    "    def __init__(self, root_dir, transform=None, target_transform=None, download=False):\n",
    "        \"\"\"\n",
    "        Args:\n",
    "            root_dir (string): Data directory containing the fish_image and mask_image folders.\n",
    "            transform (callable, optional): Optional transform to be applied on an image.\n",
    "        \"\"\"\n",
    "        self.root_dir = os.path.abspath(root_dir)\n",
    "        self.transform = transform\n",
    "        self.target_transform = target_transform\n",
    "        \n",
    "        if download:\n",
    "            self.download()\n",
    "\n",
    "        if not self._check_exists():\n",
    "            raise RuntimeError('Dataset not found. You can use download=True to download it.')\n",
    "        \n",
    "        \n",
    "        self.images = glob(os.path.join(root_dir, 'fish_image/*/*.png'))\n",
    "        self.masks = [re.sub('fish', 'mask', image) for image in self.images]\n",
    "        self.labels = [int(re.search('.*fish_image/fish_(\\d+)', image).group(1)) for image in self.images]\n",
    "        \n",
    "    def __len__(self):\n",
    "        return len(self.labels)\n",
    "    \n",
    "    def __getitem__(self, index):\n",
    "        label = self.labels[index]\n",
    "        image = Image.open(self.images[index])\n",
    "        mask = Image.open(self.masks[index])\n",
    "        \n",
    "        # https://github.com/pytorch/vision/issues/9\n",
    "        seed = np.random.randint(2147483647)\n",
    "        random.seed(seed)\n",
    "        if self.transform is not None:\n",
    "            image = self.transform(image)\n",
    "        \n",
    "        random.seed(seed)\n",
    "        if self.target_transform is not None:\n",
    "            mask = self.target_transform(mask)\n",
    "            \n",
    "        return (image, mask, label)\n",
    "    \n",
    "    \n",
    "    def download(self):\n",
    "        if self._check_exists():\n",
    "            return\n",
    "        \n",
    "        try:\n",
    "            os.makedirs(self.root_dir)\n",
    "        except FileExistsError:\n",
    "            pass\n",
    "        \n",
    "        url = 'http://groups.inf.ed.ac.uk/f4k/GROUNDTRUTH/RECOG/Archive/fishRecognition_GT.tar'\n",
    "        file_path = os.path.join(self.root_dir, 'fishRecognition_GT.tar')\n",
    "        print('Downloading...', end=' ')\n",
    "        urllib.request.urlretrieve(url, file_path)\n",
    "        print('Done!')\n",
    "        print('Extracting files...', end=' ')\n",
    "        with tarfile.open(file_path) as tar:\n",
    "                tar.extractall(self.root_dir)\n",
    "        os.remove(file_path)\n",
    "        print('Done!')\n",
    "        \n",
    "    def _check_exists(self):\n",
    "        return os.path.exists(os.path.join(self.root_dir, 'fish_image')) and \\\n",
    "               os.path.exists(os.path.join(self.root_dir, 'mask_image'))"
   ]
  },
  {
   "cell_type": "code",
   "execution_count": 71,
   "metadata": {},
   "outputs": [],
   "source": [
    "transform = transforms.Compose([\n",
    "    transforms.Resize(size=(100,100)),\n",
    "    transforms.RandomHorizontalFlip(),\n",
    "    #transforms.ToTensor()\n",
    "])"
   ]
  },
  {
   "cell_type": "code",
   "execution_count": 170,
   "metadata": {},
   "outputs": [
    {
     "data": {
      "text/plain": [
       "\n",
       "   0\n",
       "   0\n",
       "   0\n",
       " ⋮  \n",
       "   0\n",
       "   0\n",
       "   0\n",
       "[torch.ByteTensor of size 1300]"
      ]
     },
     "execution_count": 170,
     "metadata": {},
     "output_type": "execute_result"
    }
   ],
   "source": [
    "img"
   ]
  },
  {
   "cell_type": "code",
   "execution_count": 72,
   "metadata": {},
   "outputs": [],
   "source": [
    "fish = FishDataset('../data2', transform=transform, target_transform=transform)"
   ]
  },
  {
   "cell_type": "code",
   "execution_count": 91,
   "metadata": {},
   "outputs": [],
   "source": [
    "image, mask, label = fish[17]"
   ]
  },
  {
   "cell_type": "code",
   "execution_count": null,
   "metadata": {},
   "outputs": [],
   "source": [
    "mask.tobytes()"
   ]
  },
  {
   "cell_type": "code",
   "execution_count": 174,
   "metadata": {},
   "outputs": [
    {
     "data": {
      "text/plain": [
       "1300"
      ]
     },
     "execution_count": 174,
     "metadata": {},
     "output_type": "execute_result"
    }
   ],
   "source": [
    "len(mask.tobytes())"
   ]
  },
  {
   "cell_type": "code",
   "execution_count": 161,
   "metadata": {},
   "outputs": [
    {
     "data": {
      "image/png": "[encoded data removed]",
      "text/plain": [
       "<PIL.Image.Image image mode=1 size=100x100 at 0x7FFA741C9978>"
      ]
     },
     "execution_count": 161,
     "metadata": {},
     "output_type": "execute_result"
    }
   ],
   "source": [
    "Image.frombytes('1', (100,100), mask.tobytes())"
   ]
  }
 ],
 "metadata": {
  "kernelspec": {
   "display_name": "Environment (conda_pytorch_p36)",
   "language": "python",
   "name": "conda_pytorch_p36"
  },
  "language_info": {
   "codemirror_mode": {
    "name": "ipython",
    "version": 3
   },
   "file_extension": ".py",
   "mimetype": "text/x-python",
   "name": "python",
   "nbconvert_exporter": "python",
   "pygments_lexer": "ipython3",
   "version": "3.6.4"
  }
 },
 "nbformat": 4,
 "nbformat_minor": 2
}
